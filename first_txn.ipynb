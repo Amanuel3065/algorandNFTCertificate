{
 "cells": [
  {
   "cell_type": "code",
   "execution_count": 2,
   "metadata": {},
   "outputs": [],
   "source": [
    "import json\n",
    "import base64\n",
    "from algosdk import account, mnemonic, constants\n",
    "from algosdk.v2client import algod\n",
    "from algosdk import transaction"
   ]
  },
  {
   "cell_type": "code",
   "execution_count": 3,
   "metadata": {},
   "outputs": [
    {
     "name": "stdout",
     "output_type": "stream",
     "text": [
      "My address: ZWMEOO6LP72MJ5MZH2P7A2EHUI6K5G7AMUVLFDK3NVCNJU4MBPKSCBJA5M\n",
      "My private key: nWj33tn7rdf3cewxKvv/QOhPNcnWGZOG6pKD29jxbwnNmEc7y3/0xPWZPp/waIeiPK6b4GUqso1bbUTU04wL1Q==\n",
      "My passphrase: beauty tank urge rural fossil vote moral unaware economy uncover lend lottery panther essence rent border sponsor present siren return random wise enter abandon digital\n"
     ]
    }
   ],
   "source": [
    "def generate_algorand_keypair():\n",
    "    private_key, address = account.generate_account()\n",
    "    print(\"My address: {}\".format(address))\n",
    "    print(\"My private key: {}\".format(private_key))\n",
    "    print(\"My passphrase: {}\".format(mnemonic.from_private_key(private_key)))\n",
    "\n",
    "# Write down the address, private key, and the passphrase for later usage\n",
    "generate_algorand_keypair()"
   ]
  },
  {
   "cell_type": "code",
   "execution_count": 7,
   "metadata": {},
   "outputs": [
    {
     "name": "stdout",
     "output_type": "stream",
     "text": [
      "My address: ZWMEOO6LP72MJ5MZH2P7A2EHUI6K5G7AMUVLFDK3NVCNJU4MBPKSCBJA5M\n",
      "Account balance: 10000000 microAlgos\n",
      "Signed transaction with txID: ODI3NLFPLKE2F7YU4JHYOH6GTICTPBQBMV4NNUZIF6HIAJ7FYR5A\n",
      "Transaction information: {\n",
      "    \"confirmed-round\": 27276001,\n",
      "    \"pool-error\": \"\",\n",
      "    \"txn\": {\n",
      "        \"sig\": \"wjcLUB6qURgZJ21ajEiP0byJnun7UGmqZNi4GuDXn90LLNtNXT6nAKuhLiPhYt6sCqhG3APzPwOCTijwwg/cAA==\",\n",
      "        \"txn\": {\n",
      "            \"amt\": 100000,\n",
      "            \"fee\": 1000,\n",
      "            \"fv\": 27275999,\n",
      "            \"gen\": \"testnet-v1.0\",\n",
      "            \"gh\": \"SGO1GKSzyE7IEPItTxCByw9x8FmnrCDexi9/cOUJOiI=\",\n",
      "            \"lv\": 27276999,\n",
      "            \"note\": \"SGVsbG8gV29ybGQ=\",\n",
      "            \"rcv\": \"HZ57J3K46JIJXILONBBZOHX6BKPXEM2VVXNRFSUED6DKFD5ZD24PMJ3MVA\",\n",
      "            \"snd\": \"ZWMEOO6LP72MJ5MZH2P7A2EHUI6K5G7AMUVLFDK3NVCNJU4MBPKSCBJA5M\",\n",
      "            \"type\": \"pay\"\n",
      "        }\n",
      "    }\n",
      "}\n",
      "Decoded note: Hello World\n",
      "Starting Account balance: 10000000 microAlgos\n",
      "Amount transfered: 100000 microAlgos\n",
      "Fee: 1000 microAlgos\n",
      "Final Account balance: 9899000 microAlgos\n",
      "\n"
     ]
    }
   ],
   "source": [
    "def first_transaction_example(private_key, my_address):\n",
    "    algod_address = \"http://localhost:4001\"\n",
    "    algod_token = \"aaaaaaaaaaaaaaaaaaaaaaaaaaaaaaaaaaaaaaaaaaaaaaaaaaaaaaaaaaaaaaaa\"\n",
    "    algod_client = algod.AlgodClient(algod_token, algod_address)\n",
    "\n",
    "    print(\"My address: {}\".format(my_address))\n",
    "    account_info = algod_client.account_info(my_address)\n",
    "    print(\"Account balance: {} microAlgos\".format(account_info.get('amount')))\n",
    "\n",
    "    # build transaction\n",
    "    params = algod_client.suggested_params()\n",
    "    # comment out the next two (2) lines to use suggested fees\n",
    "    params.flat_fee = constants.MIN_TXN_FEE \n",
    "    params.fee = 1000\n",
    "    receiver = \"HZ57J3K46JIJXILONBBZOHX6BKPXEM2VVXNRFSUED6DKFD5ZD24PMJ3MVA\"\n",
    "    amount = 100000\n",
    "    note = \"Hello World\".encode()\n",
    "\n",
    "    unsigned_txn = transaction.PaymentTxn(my_address, params, receiver, amount, None, note)\n",
    "\n",
    "    # sign transaction\n",
    "    signed_txn = unsigned_txn.sign(private_key)\n",
    "\n",
    "    # submit transaction\n",
    "    txid = algod_client.send_transaction(signed_txn)\n",
    "    print(\"Signed transaction with txID: {}\".format(txid))\n",
    "\n",
    "    # wait for confirmation \n",
    "    try:\n",
    "        confirmed_txn = transaction.wait_for_confirmation(algod_client, txid, 4)  \n",
    "    except Exception as err:\n",
    "        print(err)\n",
    "        return\n",
    "\n",
    "    print(\"Transaction information: {}\".format(\n",
    "        json.dumps(confirmed_txn, indent=4)))\n",
    "    print(\"Decoded note: {}\".format(base64.b64decode(\n",
    "        confirmed_txn[\"txn\"][\"txn\"][\"note\"]).decode()))\n",
    "\n",
    "    print(\"Starting Account balance: {} microAlgos\".format(account_info.get('amount')) )\n",
    "    print(\"Amount transfered: {} microAlgos\".format(amount) )    \n",
    "    print(\"Fee: {} microAlgos\".format(params.fee) ) \n",
    "\n",
    "\n",
    "    account_info = algod_client.account_info(my_address)\n",
    "    print(\"Final Account balance: {} microAlgos\".format(account_info.get('amount')) + \"\\n\")\n",
    "\n",
    "\n",
    "\n",
    "# replace private_key and my_address with your private key and your address.\n",
    "private_key=\"nWj33tn7rdf3cewxKvv/QOhPNcnWGZOG6pKD29jxbwnNmEc7y3/0xPWZPp/waIeiPK6b4GUqso1bbUTU04wL1Q==\"\n",
    "my_address=\"ZWMEOO6LP72MJ5MZH2P7A2EHUI6K5G7AMUVLFDK3NVCNJU4MBPKSCBJA5M\"\n",
    "first_transaction_example(private_key, my_address)"
   ]
  },
  {
   "cell_type": "code",
   "execution_count": null,
   "metadata": {},
   "outputs": [],
   "source": []
  }
 ],
 "metadata": {
  "kernelspec": {
   "display_name": "Python 3",
   "language": "python",
   "name": "python3"
  },
  "language_info": {
   "codemirror_mode": {
    "name": "ipython",
    "version": 3
   },
   "file_extension": ".py",
   "mimetype": "text/x-python",
   "name": "python",
   "nbconvert_exporter": "python",
   "pygments_lexer": "ipython3",
   "version": "3.8.10 (default, Nov 14 2022, 12:59:47) \n[GCC 9.4.0]"
  },
  "orig_nbformat": 4,
  "vscode": {
   "interpreter": {
    "hash": "916dbcbb3f70747c44a77c7bcd40155683ae19c65e1c03b4aa3499c5328201f1"
   }
  }
 },
 "nbformat": 4,
 "nbformat_minor": 2
}
