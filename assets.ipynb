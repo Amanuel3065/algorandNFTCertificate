{
 "cells": [
  {
   "cell_type": "code",
   "execution_count": 2,
   "metadata": {},
   "outputs": [],
   "source": [
    "import json\n",
    "import os\n",
    "from algosdk.v2client import algod\n",
    "from algosdk import account, mnemonic\n",
    "from algosdk.transaction import *\n",
    "#AssetConfigTxn, AssetTransferTxn, AssetFreezeTxn, wait_for_confirmation\n"
   ]
  },
  {
   "cell_type": "code",
   "execution_count": 3,
   "metadata": {},
   "outputs": [],
   "source": [
    "# Shown for demonstration purposes. NEVER reveal secret mnemonics in practice.\n",
    "# Change these values with your mnemonics\n",
    "mnemonic1 = os.environ.get('mnemonic1')\n",
    "mnemonic2 = os.environ.get('mnemonic2')\n",
    "mnemonic3 = os.environ.get('mnemonic3')\n",
    "\n",
    "# For ease of reference, add account public and private keys to\n",
    "# an accounts dict.\n",
    "accounts = {}\n",
    "counter = 1\n",
    "for m in [mnemonic1, mnemonic2, mnemonic3]:\n",
    "    accounts[counter] = {}\n",
    "    accounts[counter]['sk'] = mnemonic.to_private_key(m)\n",
    "    accounts[counter]['pk'] = account.address_from_private_key(accounts[counter]['sk'])\n",
    "    counter += 1\n",
    "\n",
    "# Specify your node address and token. This must be updated.\n",
    "\n",
    "algod_address = \"http://localhost:4001\"\n",
    "algod_token = \"aaaaaaaaaaaaaaaaaaaaaaaaaaaaaaaaaaaaaaaaaaaaaaaaaaaaaaaaaaaaaaaa\"\n",
    "\n",
    "# Initialize an algod client\n",
    "algod_client = algod.AlgodClient(algod_token=algod_token, algod_address=algod_address)\n"
   ]
  },
  {
   "cell_type": "code",
   "execution_count": 4,
   "metadata": {},
   "outputs": [],
   "source": [
    "#   Utility function used to print created asset for account and assetid\n",
    "def print_created_asset(algodclient, account, assetid):    \n",
    "    # note: if you have an indexer instance available it is easier to just use this\n",
    "    # response = myindexer.accounts(asset_id = assetid)\n",
    "    # then use 'account_info['created-assets'][0] to get info on the created asset\n",
    "    account_info = algodclient.account_info(account)\n",
    "    idx = 0;\n",
    "    for my_account_info in account_info['created-assets']:\n",
    "        scrutinized_asset = account_info['created-assets'][idx]\n",
    "        idx = idx + 1       \n",
    "        if (scrutinized_asset['index'] == assetid):\n",
    "            print(\"Asset ID: {}\".format(scrutinized_asset['index']))\n",
    "            print(json.dumps(my_account_info['params'], indent=4))\n",
    "            break"
   ]
  },
  {
   "cell_type": "code",
   "execution_count": 5,
   "metadata": {},
   "outputs": [
    {
     "name": "stdout",
     "output_type": "stream",
     "text": [
      "Account 1 address: QSSCWZ7LQYW4ZHW5XVW5ZP77VDEK4YLKWGHIQH2I22HITYBEC3DFYPYU7E\n",
      "Account 2 address: HVZR6A5UEU24CH3XXCAYEYM4KGQTYCM4LHG6IRYOXR7ODHLCXJMWHKLF7I\n",
      "Account 3 address: YMN33XNUV5QYNHRN2NNTDLK3F7YY3WJUCHFMOVC5RJNI26X4JJGPCBWGJU\n"
     ]
    }
   ],
   "source": [
    "#   Utility function used to print asset holding for account and assetid\n",
    "def print_asset_holding(algodclient, account, assetid):\n",
    "    # note: if you have an indexer instance available it is easier to just use this\n",
    "    # response = myindexer.accounts(asset_id = assetid)\n",
    "    # then loop thru the accounts returned and match the account you are looking for\n",
    "    account_info = algodclient.account_info(account)\n",
    "    idx = 0\n",
    "    for my_account_info in account_info['assets']:\n",
    "        scrutinized_asset = account_info['assets'][idx]\n",
    "        idx = idx + 1        \n",
    "        if (scrutinized_asset['asset-id'] == assetid):\n",
    "            print(\"Asset ID: {}\".format(scrutinized_asset['asset-id']))\n",
    "            print(json.dumps(scrutinized_asset, indent=4))\n",
    "            break\n",
    "\n",
    "print(\"Account 1 address: {}\".format(accounts[1]['pk']))\n",
    "print(\"Account 2 address: {}\".format(accounts[2]['pk']))\n",
    "print(\"Account 3 address: {}\".format(accounts[3]['pk']))"
   ]
  },
  {
   "cell_type": "code",
   "execution_count": 6,
   "metadata": {},
   "outputs": [],
   "source": [
    "# CREATE ASSET\n",
    "# Get network params for transactions before every transaction.\n",
    "params = algod_client.suggested_params()\n",
    "# comment these two lines if you want to use suggested params\n",
    "params.fee = 1000\n",
    "params.flat_fee = True\n",
    "\n",
    "# Account 1 creates an asset called latinum and\n",
    "# sets Account 2 as the manager, reserve, freeze, and clawback address.\n",
    "# Asset Creation transaction\n",
    "\n",
    "txn = AssetConfigTxn(\n",
    "    sender=accounts[1]['pk'],\n",
    "    sp=params,\n",
    "    total=1000,\n",
    "    default_frozen=False,\n",
    "    unit_name=\"cert\",\n",
    "    asset_name=\"Certificate\",\n",
    "    manager=accounts[2]['pk'],\n",
    "    reserve=accounts[2]['pk'],\n",
    "    freeze=accounts[2]['pk'],\n",
    "    clawback=accounts[2]['pk'],\n",
    "    url=\"https://path/to/my/asset/details\", \n",
    "    decimals=0)"
   ]
  },
  {
   "cell_type": "code",
   "execution_count": 7,
   "metadata": {},
   "outputs": [],
   "source": [
    "#sign the transaction\n",
    "# Sign with secret key of creator\n",
    "stxn = txn.sign(accounts[1]['sk'])"
   ]
  },
  {
   "cell_type": "code",
   "execution_count": 8,
   "metadata": {},
   "outputs": [
    {
     "name": "stdout",
     "output_type": "stream",
     "text": [
      "LW7JOI32MY2Z72GX2K7BN6OXSU7VMXCONF6PXMMBI46GED3GPHJA\n",
      "Asset ID: 156208991\n",
      "{\n",
      "    \"clawback\": \"HVZR6A5UEU24CH3XXCAYEYM4KGQTYCM4LHG6IRYOXR7ODHLCXJMWHKLF7I\",\n",
      "    \"creator\": \"QSSCWZ7LQYW4ZHW5XVW5ZP77VDEK4YLKWGHIQH2I22HITYBEC3DFYPYU7E\",\n",
      "    \"decimals\": 0,\n",
      "    \"default-frozen\": false,\n",
      "    \"freeze\": \"HVZR6A5UEU24CH3XXCAYEYM4KGQTYCM4LHG6IRYOXR7ODHLCXJMWHKLF7I\",\n",
      "    \"manager\": \"HVZR6A5UEU24CH3XXCAYEYM4KGQTYCM4LHG6IRYOXR7ODHLCXJMWHKLF7I\",\n",
      "    \"name\": \"Certificate\",\n",
      "    \"name-b64\": \"Q2VydGlmaWNhdGU=\",\n",
      "    \"reserve\": \"HVZR6A5UEU24CH3XXCAYEYM4KGQTYCM4LHG6IRYOXR7ODHLCXJMWHKLF7I\",\n",
      "    \"total\": 1000,\n",
      "    \"unit-name\": \"cert\",\n",
      "    \"unit-name-b64\": \"Y2VydA==\",\n",
      "    \"url\": \"https://path/to/my/asset/details\",\n",
      "    \"url-b64\": \"aHR0cHM6Ly9wYXRoL3RvL215L2Fzc2V0L2RldGFpbHM=\"\n",
      "}\n",
      "Asset ID: 156208991\n",
      "{\n",
      "    \"amount\": 1000,\n",
      "    \"asset-id\": 156208991,\n",
      "    \"is-frozen\": false\n",
      "}\n"
     ]
    }
   ],
   "source": [
    "# Send the transaction to the network and retrieve the txid.\n",
    "txid = algod_client.send_transaction(stxn)\n",
    "print(txid)\n",
    "\n",
    "# Retrieve the asset ID of the newly created asset by first\n",
    "# ensuring that the creation transaction was confirmed,\n",
    "# then grabbing the asset id from the transaction.\n",
    "\n",
    "# Wait for the transaction to be confirmed\n",
    "wait_for_confirmation(algod_client, txid)\n",
    "\n",
    "try:\n",
    "    # Pull account info for the creator\n",
    "    # account_info = algod_client.account_info(accounts[1]['pk'])\n",
    "    # get asset_id from tx\n",
    "    # Get the new asset's information from the creator account\n",
    "    ptx = algod_client.pending_transaction_info(txid)\n",
    "    asset_id = ptx[\"asset-index\"]\n",
    "    print_created_asset(algod_client, accounts[1]['pk'], asset_id)\n",
    "    print_asset_holding(algod_client, accounts[1]['pk'], asset_id)\n",
    "except Exception as e:\n",
    "    print(e)\n"
   ]
  },
  {
   "cell_type": "code",
   "execution_count": null,
   "metadata": {},
   "outputs": [],
   "source": []
  }
 ],
 "metadata": {
  "kernelspec": {
   "display_name": "base",
   "language": "python",
   "name": "python3"
  },
  "language_info": {
   "codemirror_mode": {
    "name": "ipython",
    "version": 3
   },
   "file_extension": ".py",
   "mimetype": "text/x-python",
   "name": "python",
   "nbconvert_exporter": "python",
   "pygments_lexer": "ipython3",
   "version": "3.9.12"
  },
  "orig_nbformat": 4,
  "vscode": {
   "interpreter": {
    "hash": "a5e9bb5c8109d9c89e3540dfae7ab7a0527331017fc9eeaf677245afa113f1a5"
   }
  }
 },
 "nbformat": 4,
 "nbformat_minor": 2
}
